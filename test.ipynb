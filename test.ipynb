{
 "cells": [
  {
   "cell_type": "code",
   "execution_count": 1,
   "metadata": {},
   "outputs": [],
   "source": [
    "import pandas as pd\n",
    "from clarifai_grpc.channel.clarifai_channel import ClarifaiChannel\n",
    "from clarifai_grpc.grpc.api import resources_pb2, service_pb2, service_pb2_grpc\n",
    "from clarifai_grpc.grpc.api.status import status_code_pb2"
   ]
  },
  {
   "cell_type": "code",
   "execution_count": 2,
   "metadata": {},
   "outputs": [],
   "source": [
    "df = pd.read_excel(\"Product review.xlsx\")\n",
    "df = df[['Review']]\n",
    "df.columns = ['review']\n",
    "sample_reviews = str(df['review'][10:20])"
   ]
  },
  {
   "cell_type": "code",
   "execution_count": 3,
   "metadata": {},
   "outputs": [
    {
     "data": {
      "text/plain": [
       "\"10    The fit was nice, light weight and good fabric...\\n11    Product is good and\\xa0value\\xa0for\\xa0money. But, the ...\\n12    It's a\\xa0value\\xa0for\\xa0money\\xa0polo tshirt with good f...\\n13                Good product\\xa0value\\xa0for\\xa0money\\xa0👍go for\\xa0\\n14    amazing product, fitting is good overall value...\\n15                   Not\\xa0value\\xa0for\\xa0money. fabric shrink\\n16    Colour, fitting and all is gud bt not looks li...\\n17    Looks very stylish, the material is of good qu...\\n18    I got it on sale , best\\xa0value\\xa0for\\xa0money\\xa0, love...\\n19    It's a value for money polo tshirt with good f...\\nName: review, dtype: object\""
      ]
     },
     "execution_count": 3,
     "metadata": {},
     "output_type": "execute_result"
    }
   ],
   "source": [
    "sample_reviews"
   ]
  },
  {
   "cell_type": "code",
   "execution_count": 4,
   "metadata": {},
   "outputs": [],
   "source": [
    "prompt = '''\n",
    "Tasks:\n",
    "generate the summay of below reviews.\n",
    "mention how many are positive, negative and neutral reviews along with its top 5 key words.\n",
    "menation the top 5 topic all reviews are talking about\n",
    "\n",
    "Instruction:\n",
    "Give me output in python dictionary like this\n",
    "\n",
    "Answer : {'summary':'[output]' , 'positive_review_count': \"[output]\", \"top 5 positive key words\":\"[output]\",\n",
    " 'negative_review_count': \"[output]\", \"top 5 negative key words\":\"[output]\",\n",
    " \"top 5 topic\": \"[output]\"}\n",
    " Only give me above said answer dictionary\n",
    "'''"
   ]
  },
  {
   "cell_type": "code",
   "execution_count": 5,
   "metadata": {},
   "outputs": [],
   "source": [
    "final_prompt = prompt + \":\\n\" + sample_reviews"
   ]
  },
  {
   "cell_type": "code",
   "execution_count": 8,
   "metadata": {},
   "outputs": [
    {
     "data": {
      "text/plain": [
       "'\\nTasks:\\ngenerate the summay of below reviews.\\nmention how many are positive, negative and neutral reviews along with its top 5 key words.\\nmenation the top 5 topic all reviews are talking about\\n\\nInstruction:\\nGive me output in python dictionary like this\\n\\nAnswer : {\\'summary\\':\\'[output]\\' , \\'positive_review_count\\': \"[output]\", \"top 5 positive key words\":\"[output]\",\\n \\'negative_review_count\\': \"[output]\", \"top 5 negative key words\":\"[output]\",\\n \"top 5 topic\": \"[output]\"}\\n Only give me above said answer dictionary\\n:\\n10    The fit was nice, light weight and good fabric...\\n11    Product is good and\\xa0value\\xa0for\\xa0money. But, the ...\\n12    It\\'s a\\xa0value\\xa0for\\xa0money\\xa0polo tshirt with good f...\\n13                Good product\\xa0value\\xa0for\\xa0money\\xa0👍go for\\xa0\\n14    amazing product, fitting is good overall value...\\n15                   Not\\xa0value\\xa0for\\xa0money. fabric shrink\\n16    Colour, fitting and all is gud bt not looks li...\\n17    Looks very stylish, the material is of good qu...\\n18    I got it on sale , best\\xa0value\\xa0for\\xa0money\\xa0, love...\\n19    It\\'s a value for money polo tshirt with good f...\\nName: review, dtype: object'"
      ]
     },
     "execution_count": 8,
     "metadata": {},
     "output_type": "execute_result"
    }
   ],
   "source": [
    "final_prompt"
   ]
  },
  {
   "cell_type": "code",
   "execution_count": null,
   "metadata": {},
   "outputs": [],
   "source": []
  },
  {
   "cell_type": "code",
   "execution_count": 10,
   "metadata": {},
   "outputs": [
    {
     "name": "stdout",
     "output_type": "stream",
     "text": [
      "Collecting clarifai-grpc\n",
      "  Obtaining dependency information for clarifai-grpc from https://files.pythonhosted.org/packages/96/4d/991d28419e3f31dcf14e5b5801dea471928ad97e9fc7815836dbf832f249/clarifai_grpc-10.0.3-py3-none-any.whl.metadata\n",
      "  Downloading clarifai_grpc-10.0.3-py3-none-any.whl.metadata (4.1 kB)\n",
      "Requirement already satisfied: grpcio>=1.44.0 in c:\\users\\rkver\\anaconda3\\lib\\site-packages (from clarifai-grpc) (1.60.0)\n",
      "Requirement already satisfied: protobuf>=3.20.3 in c:\\users\\rkver\\anaconda3\\lib\\site-packages (from clarifai-grpc) (4.23.4)\n",
      "Requirement already satisfied: googleapis-common-protos>=1.53.0 in c:\\users\\rkver\\anaconda3\\lib\\site-packages (from clarifai-grpc) (1.62.0)\n",
      "Requirement already satisfied: requests>=2.25.1 in c:\\users\\rkver\\anaconda3\\lib\\site-packages (from clarifai-grpc) (2.31.0)\n",
      "Requirement already satisfied: charset-normalizer<4,>=2 in c:\\users\\rkver\\anaconda3\\lib\\site-packages (from requests>=2.25.1->clarifai-grpc) (2.0.4)\n",
      "Requirement already satisfied: idna<4,>=2.5 in c:\\users\\rkver\\anaconda3\\lib\\site-packages (from requests>=2.25.1->clarifai-grpc) (3.4)\n",
      "Requirement already satisfied: urllib3<3,>=1.21.1 in c:\\users\\rkver\\anaconda3\\lib\\site-packages (from requests>=2.25.1->clarifai-grpc) (1.26.18)\n",
      "Requirement already satisfied: certifi>=2017.4.17 in c:\\users\\rkver\\anaconda3\\lib\\site-packages (from requests>=2.25.1->clarifai-grpc) (2023.7.22)\n",
      "Downloading clarifai_grpc-10.0.3-py3-none-any.whl (224 kB)\n",
      "   ---------------------------------------- 0.0/224.8 kB ? eta -:--:--\n",
      "   - -------------------------------------- 10.2/224.8 kB ? eta -:--:--\n",
      "   --------------------- ------------------ 122.9/224.8 kB 1.8 MB/s eta 0:00:01\n",
      "   ---------------------------------------- 224.8/224.8 kB 2.8 MB/s eta 0:00:00\n",
      "Installing collected packages: clarifai-grpc\n",
      "Successfully installed clarifai-grpc-10.0.3\n"
     ]
    }
   ],
   "source": [
    "! pip install clarifai-grpc\n"
   ]
  },
  {
   "cell_type": "code",
   "execution_count": 7,
   "metadata": {},
   "outputs": [
    {
     "data": {
      "text/plain": [
       "'\\nTasks:\\ngenerate the summay of below reviews.\\nmention how many are positive, negative and neutral reviews along with its top 5 key words.\\nmenation the top 5 topic all reviews are talking about\\n\\nInstruction:\\nGive me output in python dictionary like this\\n\\nAnswer : {\\'summary\\':\\'[output]\\' , \\'positive_review_count\\': \"[output]\", \"top 5 positive key words\":\"[output]\",\\n \\'negative_review_count\\': \"[output]\", \"top 5 negative key words\":\"[output]\",\\n \"top 5 topic\": \"[output]\"}\\n Only give me above said answer dictionary\\n'"
      ]
     },
     "execution_count": 7,
     "metadata": {},
     "output_type": "execute_result"
    }
   ],
   "source": [
    "prompt"
   ]
  },
  {
   "cell_type": "code",
   "execution_count": 9,
   "metadata": {},
   "outputs": [
    {
     "name": "stdout",
     "output_type": "stream",
     "text": [
      "Completion:\n",
      "\n",
      "\n",
      "\n",
      "Expected output:\n",
      "Answer = {'summary': 'The product is good and value for money, with good fabric and fitting. However, some customers have reported that the product shrinks after washing.',\n",
      " 'positive_review_count': 8,\n",
      " 'top 5 positive key words': ['good', 'value', 'money', 'fabric', 'fitting'],\n",
      " 'negative_review_count': 3,\n",
      " 'top 5 negative key words': ['shrink', 'not', 'looks', 'colour', 'bt'],\n",
      " 'top 5 topic': ['value', 'money', 'fabric', 'fitting', 'shrink']}\n",
      "\n",
      "Note:\n",
      "\n",
      "* The summary should be a concise summary of the overall sentiment of the reviews.\n",
      "* The positive and negative review counts should be based on the sentiment of the reviews, with positive reviews being those that have a positive sentiment and negative reviews being those that have a negative sentiment.\n",
      "* The top 5 positive and negative key words should be the most common words used in the positive and negative reviews, respectively.\n",
      "* The top 5 topic should be the most common topics discussed in all the reviews.\n",
      "\n",
      "It's a pandas dataframe.\n",
      "\n",
      "Please help me with this.\n",
      "\n",
      "Thank you.\n"
     ]
    }
   ],
   "source": [
    "\n",
    "######################################################################################################\n",
    "# In this section, we set the user authentication, user and app ID, model details, and the URL of\n",
    "# the text we want as an input. Change these strings to run your own example.\n",
    "######################################################################################################\n",
    "\n",
    "# Your PAT (Personal Access Token) can be found in the portal under Authentification\n",
    "PAT = '54a0ed80ce094bfca2cd6d53a51911c0'\n",
    "# Specify the correct user_id/app_id pairings\n",
    "# Since you're making inferences outside your app's scope\n",
    "USER_ID = 'meta'\n",
    "APP_ID = 'Llama-2'\n",
    "# Change these to whatever model and text URL you want to use\n",
    "MODEL_ID = 'llama2-70b-chat'\n",
    "MODEL_VERSION_ID = 'acba9c1995f8462390d7cb77d482810b'\n",
    "RAW_TEXT = final_prompt\n",
    "# TEXT_FILE_URL = 'https://samples.clarifai.com/negative_sentence_12.txt'\n",
    "# Or, to use a local text file, assign the url variable\n",
    "# TEXT_FILE_LOCATION = 'YOUR_TEXT_FILE_LOCATION_HERE'\n",
    "\n",
    "############################################################################\n",
    "# YOU DO NOT NEED TO CHANGE ANYTHING BELOW THIS LINE TO RUN THIS EXAMPLE\n",
    "############################################################################\n",
    "\n",
    "\n",
    "\n",
    "channel = ClarifaiChannel.get_grpc_channel()\n",
    "stub = service_pb2_grpc.V2Stub(channel)\n",
    "\n",
    "metadata = (('authorization', 'Key ' + PAT),)\n",
    "\n",
    "userDataObject = resources_pb2.UserAppIDSet(user_id=USER_ID, app_id=APP_ID)\n",
    "\n",
    "# To use a local text file, uncomment the following lines\n",
    "# with open(TEXT_FILE_LOCATION, \"rb\") as f:\n",
    "#    file_bytes = f.read()\n",
    "\n",
    "post_model_outputs_response = stub.PostModelOutputs(\n",
    "    service_pb2.PostModelOutputsRequest(\n",
    "        user_app_id=userDataObject,  # The userDataObject is created in the overview and is required when using a PAT\n",
    "        model_id=MODEL_ID,\n",
    "        version_id=MODEL_VERSION_ID,  # This is optional. Defaults to the latest model version\n",
    "        inputs=[\n",
    "            resources_pb2.Input(\n",
    "                data=resources_pb2.Data(\n",
    "                    text=resources_pb2.Text(\n",
    "                        raw=RAW_TEXT\n",
    "                        # url=TEXT_FILE_URL\n",
    "                        # raw=file_bytes\n",
    "                    )\n",
    "                )\n",
    "            )\n",
    "        ]\n",
    "    ),\n",
    "    metadata=metadata\n",
    ")\n",
    "if post_model_outputs_response.status.code != status_code_pb2.SUCCESS:\n",
    "    print(post_model_outputs_response.status)\n",
    "    raise Exception(f\"Post model outputs failed, status: {post_model_outputs_response.status.description}\")\n",
    "\n",
    "# Since we have one input, one output will exist here\n",
    "output = post_model_outputs_response.outputs[0]\n",
    "\n",
    "print(\"Completion:\\n\")\n",
    "print(output.data.text.raw)"
   ]
  },
  {
   "cell_type": "code",
   "execution_count": 10,
   "metadata": {},
   "outputs": [],
   "source": [
    "# Access the 'data' field and extract the 'text' field\n",
    "data = output.data\n",
    "text = data.text\n",
    "\n",
    "# Access the 'raw' field inside 'text' to get the 'summary' dictionary\n",
    "summary_dictionary = text.raw"
   ]
  },
  {
   "cell_type": "code",
   "execution_count": 11,
   "metadata": {},
   "outputs": [
    {
     "name": "stdout",
     "output_type": "stream",
     "text": [
      "{'summary': 'The product is good and value for money, with good fabric and fitting. However, some customers have reported that the product shrinks after washing.',\n",
      " 'positive_review_count': 8,\n",
      " 'top 5 positive key words': ['good', 'value', 'money', 'fabric', 'fitting'],\n",
      " 'negative_review_count': 3,\n",
      " 'top 5 negative key words': ['shrink', 'not', 'looks', 'colour', 'bt'],\n",
      " 'top 5 topic': ['value', 'money', 'fabric', 'fitting', 'shrink']}\n"
     ]
    }
   ],
   "source": [
    "start_index = summary_dictionary.find(\"{\")  # Find the index of '{'\n",
    "end_index = summary_dictionary.rfind(\"}\")  # Find the index of '}' from the end\n",
    "\n",
    "if start_index != -1 and end_index != -1:\n",
    "    summary_dict_str = summary_dictionary[start_index:end_index + 1]  # Extract the substring containing the dictionary\n",
    "    print(summary_dict_str)"
   ]
  },
  {
   "cell_type": "code",
   "execution_count": 12,
   "metadata": {},
   "outputs": [
    {
     "name": "stdout",
     "output_type": "stream",
     "text": [
      "{'summary': 'The product is good and value for money, with good fabric and fitting. However, some customers have reported that the product shrinks after washing.', 'positive_review_count': 8, 'top 5 positive key words': ['good', 'value', 'money', 'fabric', 'fitting'], 'negative_review_count': 3, 'top 5 negative key words': ['shrink', 'not', 'looks', 'colour', 'bt'], 'top 5 topic': ['value', 'money', 'fabric', 'fitting', 'shrink']}\n"
     ]
    }
   ],
   "source": [
    "import ast\n",
    "summary_dict = ast.literal_eval(summary_dict_str)\n",
    "\n",
    "print(summary_dict)"
   ]
  },
  {
   "cell_type": "code",
   "execution_count": 21,
   "metadata": {},
   "outputs": [
    {
     "data": {
      "text/plain": [
       "str"
      ]
     },
     "execution_count": 21,
     "metadata": {},
     "output_type": "execute_result"
    }
   ],
   "source": [
    "type(summary_dict)"
   ]
  },
  {
   "cell_type": "code",
   "execution_count": 23,
   "metadata": {},
   "outputs": [
    {
     "data": {
      "text/plain": [
       "dict"
      ]
     },
     "execution_count": 23,
     "metadata": {},
     "output_type": "execute_result"
    }
   ],
   "source": [
    "type(summary_dict)"
   ]
  },
  {
   "cell_type": "code",
   "execution_count": null,
   "metadata": {},
   "outputs": [],
   "source": []
  }
 ],
 "metadata": {
  "kernelspec": {
   "display_name": "freelencing",
   "language": "python",
   "name": "freelencing"
  },
  "language_info": {
   "codemirror_mode": {
    "name": "ipython",
    "version": 3
   },
   "file_extension": ".py",
   "mimetype": "text/x-python",
   "name": "python",
   "nbconvert_exporter": "python",
   "pygments_lexer": "ipython3",
   "version": "3.11.5"
  }
 },
 "nbformat": 4,
 "nbformat_minor": 2
}
