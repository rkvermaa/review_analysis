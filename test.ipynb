{
 "cells": [
  {
   "cell_type": "code",
   "execution_count": 2,
   "metadata": {},
   "outputs": [],
   "source": [
    "import pandas as pd\n",
    "from clarifai_grpc.channel.clarifai_channel import ClarifaiChannel\n",
    "from clarifai_grpc.grpc.api import resources_pb2, service_pb2, service_pb2_grpc\n",
    "from clarifai_grpc.grpc.api.status import status_code_pb2"
   ]
  },
  {
   "cell_type": "code",
   "execution_count": 3,
   "metadata": {},
   "outputs": [],
   "source": [
    "df = pd.read_excel(\"Product review.xlsx\")\n",
    "df = df[['Review']]\n",
    "df.columns = ['review']\n",
    "sample_reviews = str(df['review'][10:20])"
   ]
  },
  {
   "cell_type": "code",
   "execution_count": 7,
   "metadata": {},
   "outputs": [],
   "source": [
    "prompt = '''\n",
    "Tasks:\n",
    "generate the summay of below reviews.\n",
    "mention how many are positive, negative and neutral reviews along with its top 5 key words.\n",
    "menation the top 5 topic all reviews are talking about\n",
    "\n",
    "Instruction:\n",
    "Give me output in python dictionary like this\n",
    "\n",
    "Answer : {'summary':'[output]' , 'positive_review_count': \"[output]\", \"top 5 positive key words\":\"[output]\",\n",
    " 'negative_review_count': \"[output]\", \"top 5 negative key words\":\"[output]\",\n",
    " \"top 5 topic\": \"[output]\"}\n",
    " Only give me above said answer dictionary\n",
    "'''"
   ]
  },
  {
   "cell_type": "code",
   "execution_count": 8,
   "metadata": {},
   "outputs": [],
   "source": [
    "final_prompt = prompt + \":\\n\" + sample_reviews"
   ]
  },
  {
   "cell_type": "code",
   "execution_count": 10,
   "metadata": {},
   "outputs": [
    {
     "name": "stdout",
     "output_type": "stream",
     "text": [
      "Collecting clarifai-grpc\n",
      "  Obtaining dependency information for clarifai-grpc from https://files.pythonhosted.org/packages/96/4d/991d28419e3f31dcf14e5b5801dea471928ad97e9fc7815836dbf832f249/clarifai_grpc-10.0.3-py3-none-any.whl.metadata\n",
      "  Downloading clarifai_grpc-10.0.3-py3-none-any.whl.metadata (4.1 kB)\n",
      "Requirement already satisfied: grpcio>=1.44.0 in c:\\users\\rkver\\anaconda3\\lib\\site-packages (from clarifai-grpc) (1.60.0)\n",
      "Requirement already satisfied: protobuf>=3.20.3 in c:\\users\\rkver\\anaconda3\\lib\\site-packages (from clarifai-grpc) (4.23.4)\n",
      "Requirement already satisfied: googleapis-common-protos>=1.53.0 in c:\\users\\rkver\\anaconda3\\lib\\site-packages (from clarifai-grpc) (1.62.0)\n",
      "Requirement already satisfied: requests>=2.25.1 in c:\\users\\rkver\\anaconda3\\lib\\site-packages (from clarifai-grpc) (2.31.0)\n",
      "Requirement already satisfied: charset-normalizer<4,>=2 in c:\\users\\rkver\\anaconda3\\lib\\site-packages (from requests>=2.25.1->clarifai-grpc) (2.0.4)\n",
      "Requirement already satisfied: idna<4,>=2.5 in c:\\users\\rkver\\anaconda3\\lib\\site-packages (from requests>=2.25.1->clarifai-grpc) (3.4)\n",
      "Requirement already satisfied: urllib3<3,>=1.21.1 in c:\\users\\rkver\\anaconda3\\lib\\site-packages (from requests>=2.25.1->clarifai-grpc) (1.26.18)\n",
      "Requirement already satisfied: certifi>=2017.4.17 in c:\\users\\rkver\\anaconda3\\lib\\site-packages (from requests>=2.25.1->clarifai-grpc) (2023.7.22)\n",
      "Downloading clarifai_grpc-10.0.3-py3-none-any.whl (224 kB)\n",
      "   ---------------------------------------- 0.0/224.8 kB ? eta -:--:--\n",
      "   - -------------------------------------- 10.2/224.8 kB ? eta -:--:--\n",
      "   --------------------- ------------------ 122.9/224.8 kB 1.8 MB/s eta 0:00:01\n",
      "   ---------------------------------------- 224.8/224.8 kB 2.8 MB/s eta 0:00:00\n",
      "Installing collected packages: clarifai-grpc\n",
      "Successfully installed clarifai-grpc-10.0.3\n"
     ]
    }
   ],
   "source": [
    "! pip install clarifai-grpc\n"
   ]
  },
  {
   "cell_type": "code",
   "execution_count": 15,
   "metadata": {},
   "outputs": [
    {
     "name": "stdout",
     "output_type": "stream",
     "text": [
      "Completion:\n",
      "\n",
      "\n",
      "Reviews:\n",
      "\n",
      "1. The hotel was super clean and comfortable! The staff was friendly and helpful. The location was perfect for exploring the city.\n",
      "2. The room was small but clean and comfortable. The bathroom was a bit dated but worked well. The staff was friendly.\n",
      "3. The hotel was nice but the bed was a bit too soft for my liking. The location was great and the staff was friendly.\n",
      "4. The hotel was not worth the money. The room was small and dirty. The staff was not friendly.\n",
      "5. The hotel was great! The room was clean and comfortable. The staff was friendly and helpful. The location was perfect.\n",
      "6. The hotel was okay. The room was clean but the bed was uncomfortable. The staff was friendly.\n",
      "7. The hotel was not good. The room was dirty and the staff was not friendly.\n",
      "8. The hotel was great! The room was clean and comfortable. The staff was friendly and helpful. The location was perfect.\n",
      "9. The hotel was not worth the money. The room was small and dirty. The staff was not friendly.\n",
      "10. The hotel was great! The room was clean and comfortable. The staff was friendly and helpful. The location was perfect.\n",
      "\n",
      "Please note that the above reviews are just an example and you need to read the actual reviews and summarize them accordingly.\n",
      "\n",
      "Expected Output:\n",
      "\n",
      "Answer = {\n",
      "'summary': 'The hotel is clean and comfortable with friendly staff. The location is perfect for exploring the city. Some guests found the bed to be too soft or the room to be small, but overall it is a great value for the price.',\n",
      "'positive_review_count': 6,\n",
      "'top 5 positive key words': ['clean', 'comfortable', 'friendly', 'perfect', 'great'],\n",
      "'negative_review_count': 4,\n",
      "'top 5 negative key words': ['small', 'dirty', 'uncomfortable', 'not worth', 'not friendly'],\n",
      "'top 5 topic': ['cleanliness', 'comfort', 'staff', 'location', 'value']\n",
      "}\n",
      "\n",
      "Note: The output is just an example, you need to generate the summary, positive and negative review count, top 5 positive and negative key words and top 5 topic based on the actual reviews you are analyzing.\n"
     ]
    }
   ],
   "source": [
    "\n",
    "######################################################################################################\n",
    "# In this section, we set the user authentication, user and app ID, model details, and the URL of\n",
    "# the text we want as an input. Change these strings to run your own example.\n",
    "######################################################################################################\n",
    "\n",
    "# Your PAT (Personal Access Token) can be found in the portal under Authentification\n",
    "PAT = 'd264c5f1a9b047419752c7e50d8ec553'\n",
    "# Specify the correct user_id/app_id pairings\n",
    "# Since you're making inferences outside your app's scope\n",
    "USER_ID = 'meta'\n",
    "APP_ID = 'Llama-2'\n",
    "# Change these to whatever model and text URL you want to use\n",
    "MODEL_ID = 'llama2-70b-chat'\n",
    "MODEL_VERSION_ID = 'acba9c1995f8462390d7cb77d482810b'\n",
    "RAW_TEXT = prompt\n",
    "# TEXT_FILE_URL = 'https://samples.clarifai.com/negative_sentence_12.txt'\n",
    "# Or, to use a local text file, assign the url variable\n",
    "# TEXT_FILE_LOCATION = 'YOUR_TEXT_FILE_LOCATION_HERE'\n",
    "\n",
    "############################################################################\n",
    "# YOU DO NOT NEED TO CHANGE ANYTHING BELOW THIS LINE TO RUN THIS EXAMPLE\n",
    "############################################################################\n",
    "\n",
    "\n",
    "\n",
    "channel = ClarifaiChannel.get_grpc_channel()\n",
    "stub = service_pb2_grpc.V2Stub(channel)\n",
    "\n",
    "metadata = (('authorization', 'Key ' + PAT),)\n",
    "\n",
    "userDataObject = resources_pb2.UserAppIDSet(user_id=USER_ID, app_id=APP_ID)\n",
    "\n",
    "# To use a local text file, uncomment the following lines\n",
    "# with open(TEXT_FILE_LOCATION, \"rb\") as f:\n",
    "#    file_bytes = f.read()\n",
    "\n",
    "post_model_outputs_response = stub.PostModelOutputs(\n",
    "    service_pb2.PostModelOutputsRequest(\n",
    "        user_app_id=userDataObject,  # The userDataObject is created in the overview and is required when using a PAT\n",
    "        model_id=MODEL_ID,\n",
    "        version_id=MODEL_VERSION_ID,  # This is optional. Defaults to the latest model version\n",
    "        inputs=[\n",
    "            resources_pb2.Input(\n",
    "                data=resources_pb2.Data(\n",
    "                    text=resources_pb2.Text(\n",
    "                        raw=RAW_TEXT\n",
    "                        # url=TEXT_FILE_URL\n",
    "                        # raw=file_bytes\n",
    "                    )\n",
    "                )\n",
    "            )\n",
    "        ]\n",
    "    ),\n",
    "    metadata=metadata\n",
    ")\n",
    "if post_model_outputs_response.status.code != status_code_pb2.SUCCESS:\n",
    "    print(post_model_outputs_response.status)\n",
    "    raise Exception(f\"Post model outputs failed, status: {post_model_outputs_response.status.description}\")\n",
    "\n",
    "# Since we have one input, one output will exist here\n",
    "output = post_model_outputs_response.outputs[0]\n",
    "\n",
    "print(\"Completion:\\n\")\n",
    "print(output.data.text.raw)"
   ]
  },
  {
   "cell_type": "code",
   "execution_count": 16,
   "metadata": {},
   "outputs": [],
   "source": [
    "# Access the 'data' field and extract the 'text' field\n",
    "data = output.data\n",
    "text = data.text\n",
    "\n",
    "# Access the 'raw' field inside 'text' to get the 'summary' dictionary\n",
    "summary_dictionary = text.raw"
   ]
  },
  {
   "cell_type": "code",
   "execution_count": 17,
   "metadata": {},
   "outputs": [
    {
     "name": "stdout",
     "output_type": "stream",
     "text": [
      "{\n",
      "'summary': 'The hotel is clean and comfortable with friendly staff. The location is perfect for exploring the city. Some guests found the bed to be too soft or the room to be small, but overall it is a great value for the price.',\n",
      "'positive_review_count': 6,\n",
      "'top 5 positive key words': ['clean', 'comfortable', 'friendly', 'perfect', 'great'],\n",
      "'negative_review_count': 4,\n",
      "'top 5 negative key words': ['small', 'dirty', 'uncomfortable', 'not worth', 'not friendly'],\n",
      "'top 5 topic': ['cleanliness', 'comfort', 'staff', 'location', 'value']\n",
      "}\n"
     ]
    }
   ],
   "source": [
    "start_index = summary_dictionary.find(\"{\")  # Find the index of '{'\n",
    "end_index = summary_dictionary.rfind(\"}\")  # Find the index of '}' from the end\n",
    "\n",
    "if start_index != -1 and end_index != -1:\n",
    "    summary_dict_str = summary_dictionary[start_index:end_index + 1]  # Extract the substring containing the dictionary\n",
    "    print(summary_dict_str)"
   ]
  },
  {
   "cell_type": "code",
   "execution_count": 20,
   "metadata": {},
   "outputs": [
    {
     "name": "stdout",
     "output_type": "stream",
     "text": [
      "{'summary': 'The hotel is clean and comfortable with friendly staff. The location is perfect for exploring the city. Some guests found the bed to be too soft or the room to be small, but overall it is a great value for the price.', 'positive_review_count': 6, 'top 5 positive key words': ['clean', 'comfortable', 'friendly', 'perfect', 'great'], 'negative_review_count': 4, 'top 5 negative key words': ['small', 'dirty', 'uncomfortable', 'not worth', 'not friendly'], 'top 5 topic': ['cleanliness', 'comfort', 'staff', 'location', 'value']}\n"
     ]
    }
   ],
   "source": [
    "import ast\n",
    "summary_dict = ast.literal_eval(summary_dict_str)\n",
    "\n",
    "print(summary_dict)"
   ]
  },
  {
   "cell_type": "code",
   "execution_count": 21,
   "metadata": {},
   "outputs": [
    {
     "data": {
      "text/plain": [
       "str"
      ]
     },
     "execution_count": 21,
     "metadata": {},
     "output_type": "execute_result"
    }
   ],
   "source": [
    "type(summary_dict)"
   ]
  },
  {
   "cell_type": "code",
   "execution_count": 23,
   "metadata": {},
   "outputs": [
    {
     "data": {
      "text/plain": [
       "dict"
      ]
     },
     "execution_count": 23,
     "metadata": {},
     "output_type": "execute_result"
    }
   ],
   "source": [
    "type(summary_dict)"
   ]
  },
  {
   "cell_type": "code",
   "execution_count": null,
   "metadata": {},
   "outputs": [],
   "source": []
  }
 ],
 "metadata": {
  "kernelspec": {
   "display_name": "freelencing",
   "language": "python",
   "name": "freelencing"
  },
  "language_info": {
   "codemirror_mode": {
    "name": "ipython",
    "version": 3
   },
   "file_extension": ".py",
   "mimetype": "text/x-python",
   "name": "python",
   "nbconvert_exporter": "python",
   "pygments_lexer": "ipython3",
   "version": "3.11.5"
  }
 },
 "nbformat": 4,
 "nbformat_minor": 2
}
